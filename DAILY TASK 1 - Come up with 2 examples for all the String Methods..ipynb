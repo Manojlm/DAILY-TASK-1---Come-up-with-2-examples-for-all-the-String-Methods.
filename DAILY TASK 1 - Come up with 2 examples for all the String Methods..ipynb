{
 "cells": [
  {
   "cell_type": "markdown",
   "id": "9861f1e7",
   "metadata": {},
   "source": [
    "## 1.Come up with 2 examples for first 10 String Methods."
   ]
  },
  {
   "cell_type": "markdown",
   "id": "8a7e6b84",
   "metadata": {},
   "source": [
    "## Python String Methods\n",
    "A string is a sequence of characters enclosed in quotation marks. In this reference page, you will find all the methods that a string object can call. For example, you can use the join() method to concatenate two strings."
   ]
  },
  {
   "cell_type": "markdown",
   "id": "cca63d75",
   "metadata": {},
   "source": [
    "### 1. Python String capitalize()\n",
    "Converts first character to Capital Letter"
   ]
  },
  {
   "cell_type": "code",
   "execution_count": 2,
   "id": "4684d964",
   "metadata": {},
   "outputs": [
    {
     "data": {
      "text/plain": [
       "'data science is a one of the booming course and in this data science i love most machine learning and deep learning'"
      ]
     },
     "execution_count": 2,
     "metadata": {},
     "output_type": "execute_result"
    }
   ],
   "source": [
    "#Example-1 \n",
    "Carrier = 'data science is a one of the booming course and in this data science i love most machine learning and deep learning'\n",
    "Carrier"
   ]
  },
  {
   "cell_type": "code",
   "execution_count": 3,
   "id": "ca7927b4",
   "metadata": {},
   "outputs": [
    {
     "data": {
      "text/plain": [
       "'Data science is a one of the booming course and in this data science i love most machine learning and deep learning'"
      ]
     },
     "execution_count": 3,
     "metadata": {},
     "output_type": "execute_result"
    }
   ],
   "source": [
    "Carrier.capitalize()"
   ]
  },
  {
   "cell_type": "code",
   "execution_count": 4,
   "id": "d6027fc7",
   "metadata": {},
   "outputs": [],
   "source": [
    "#Examlpe-2\n",
    "course = 'machine learning'"
   ]
  },
  {
   "cell_type": "code",
   "execution_count": 5,
   "id": "42a99c7d",
   "metadata": {},
   "outputs": [
    {
     "data": {
      "text/plain": [
       "'Machine learning'"
      ]
     },
     "execution_count": 5,
     "metadata": {},
     "output_type": "execute_result"
    }
   ],
   "source": [
    "course.capitalize()"
   ]
  },
  {
   "cell_type": "markdown",
   "id": "4ecf7cd5",
   "metadata": {},
   "source": [
    "### 2. Python String center()\n",
    "The center() method returns a new centered string after padding it with the specified character."
   ]
  },
  {
   "cell_type": "code",
   "execution_count": 6,
   "id": "bf7023b7",
   "metadata": {},
   "outputs": [],
   "source": [
    "#Example-1\n",
    "review = 'Python is awesome'"
   ]
  },
  {
   "cell_type": "code",
   "execution_count": 9,
   "id": "bb690888",
   "metadata": {},
   "outputs": [],
   "source": [
    "string = review.center(24)"
   ]
  },
  {
   "cell_type": "code",
   "execution_count": 10,
   "id": "630a20b9",
   "metadata": {},
   "outputs": [
    {
     "data": {
      "text/plain": [
       "'   Python is awesome    '"
      ]
     },
     "execution_count": 10,
     "metadata": {},
     "output_type": "execute_result"
    }
   ],
   "source": [
    "string"
   ]
  },
  {
   "cell_type": "code",
   "execution_count": 12,
   "id": "b06c87e0",
   "metadata": {},
   "outputs": [],
   "source": [
    "string = review.center(24,'*')"
   ]
  },
  {
   "cell_type": "code",
   "execution_count": 13,
   "id": "94df231e",
   "metadata": {},
   "outputs": [
    {
     "data": {
      "text/plain": [
       "'***Python is awesome****'"
      ]
     },
     "execution_count": 13,
     "metadata": {},
     "output_type": "execute_result"
    }
   ],
   "source": [
    "string"
   ]
  },
  {
   "cell_type": "code",
   "execution_count": 14,
   "id": "f5281928",
   "metadata": {},
   "outputs": [],
   "source": [
    "#Example-2\n",
    "slog = 'Practise makes perfect'\n",
    "string1 = slog.center(35,'*')"
   ]
  },
  {
   "cell_type": "code",
   "execution_count": 15,
   "id": "ee4fe614",
   "metadata": {},
   "outputs": [
    {
     "data": {
      "text/plain": [
       "'*******Practise makes perfect******'"
      ]
     },
     "execution_count": 15,
     "metadata": {},
     "output_type": "execute_result"
    }
   ],
   "source": [
    "string1"
   ]
  },
  {
   "cell_type": "code",
   "execution_count": 16,
   "id": "e23fd5d1",
   "metadata": {},
   "outputs": [],
   "source": [
    "slog = 'Practise makes perfect'\n",
    "string1 = slog.center(35)"
   ]
  },
  {
   "cell_type": "code",
   "execution_count": 17,
   "id": "a5dd177e",
   "metadata": {},
   "outputs": [
    {
     "data": {
      "text/plain": [
       "'       Practise makes perfect      '"
      ]
     },
     "execution_count": 17,
     "metadata": {},
     "output_type": "execute_result"
    }
   ],
   "source": [
    "string1"
   ]
  },
  {
   "cell_type": "markdown",
   "id": "1d8f0e60",
   "metadata": {},
   "source": [
    "### 3. Python String casefold()\n",
    "The casefold() method converts all characters of the string into lowercase letters and returns a new string."
   ]
  },
  {
   "cell_type": "code",
   "execution_count": 18,
   "id": "0af7e61b",
   "metadata": {},
   "outputs": [],
   "source": [
    "#Example-1\n",
    "name = 'DaTa ScIeNcE'"
   ]
  },
  {
   "cell_type": "code",
   "execution_count": 19,
   "id": "96df6755",
   "metadata": {},
   "outputs": [
    {
     "data": {
      "text/plain": [
       "'data science'"
      ]
     },
     "execution_count": 19,
     "metadata": {},
     "output_type": "execute_result"
    }
   ],
   "source": [
    "name.casefold()"
   ]
  },
  {
   "cell_type": "code",
   "execution_count": 20,
   "id": "a2712a22",
   "metadata": {},
   "outputs": [],
   "source": [
    "#Example-2\n",
    "Favouriate_subject = 'MaChInE lEaRnInG'"
   ]
  },
  {
   "cell_type": "code",
   "execution_count": 21,
   "id": "1c6e739c",
   "metadata": {},
   "outputs": [
    {
     "data": {
      "text/plain": [
       "'machine learning'"
      ]
     },
     "execution_count": 21,
     "metadata": {},
     "output_type": "execute_result"
    }
   ],
   "source": [
    "Favouriate_subject.casefold()"
   ]
  },
  {
   "cell_type": "markdown",
   "id": "4e04eb76",
   "metadata": {},
   "source": [
    "### 4. Python String count()\n",
    "The count() method returns the number of occurrences of a substring in the given string. "
   ]
  },
  {
   "cell_type": "code",
   "execution_count": 29,
   "id": "54ab72c7",
   "metadata": {},
   "outputs": [],
   "source": [
    "#Example-1\n",
    "feedback = 'I always like to work NlP projects'"
   ]
  },
  {
   "cell_type": "code",
   "execution_count": 30,
   "id": "3752717f",
   "metadata": {},
   "outputs": [
    {
     "data": {
      "text/plain": [
       "3"
      ]
     },
     "execution_count": 30,
     "metadata": {},
     "output_type": "execute_result"
    }
   ],
   "source": [
    "feedback.count(('l'))"
   ]
  },
  {
   "cell_type": "code",
   "execution_count": 31,
   "id": "9954cdef",
   "metadata": {},
   "outputs": [],
   "source": [
    "#Example-2\n",
    "feedback2 = 'machine learning is a one of my favouriate content'"
   ]
  },
  {
   "cell_type": "code",
   "execution_count": 32,
   "id": "43932fae",
   "metadata": {},
   "outputs": [
    {
     "data": {
      "text/plain": [
       "4"
      ]
     },
     "execution_count": 32,
     "metadata": {},
     "output_type": "execute_result"
    }
   ],
   "source": [
    "feedback2.count(('i'))"
   ]
  },
  {
   "cell_type": "code",
   "execution_count": 33,
   "id": "48263c63",
   "metadata": {},
   "outputs": [
    {
     "data": {
      "text/plain": [
       "3"
      ]
     },
     "execution_count": 33,
     "metadata": {},
     "output_type": "execute_result"
    }
   ],
   "source": [
    "feedback2.count(('t'))"
   ]
  },
  {
   "cell_type": "markdown",
   "id": "d3344f4d",
   "metadata": {},
   "source": [
    "### 5. Python String endswith()\n",
    "The endswith() method returns True if a string ends with the specified suffix. If not, it returns False."
   ]
  },
  {
   "cell_type": "code",
   "execution_count": 40,
   "id": "cdefaa30",
   "metadata": {},
   "outputs": [],
   "source": [
    "#Example-1\n",
    "excelr = 'excelr is one of the best institute for to learn data science course'"
   ]
  },
  {
   "cell_type": "code",
   "execution_count": 41,
   "id": "441f5c0a",
   "metadata": {},
   "outputs": [
    {
     "data": {
      "text/plain": [
       "False"
      ]
     },
     "execution_count": 41,
     "metadata": {},
     "output_type": "execute_result"
    }
   ],
   "source": [
    "excelr.endswith(('good'))"
   ]
  },
  {
   "cell_type": "code",
   "execution_count": 42,
   "id": "f05462da",
   "metadata": {},
   "outputs": [
    {
     "data": {
      "text/plain": [
       "True"
      ]
     },
     "execution_count": 42,
     "metadata": {},
     "output_type": "execute_result"
    }
   ],
   "source": [
    "excelr.endswith(('course'))"
   ]
  },
  {
   "cell_type": "code",
   "execution_count": 43,
   "id": "fcd1e48d",
   "metadata": {},
   "outputs": [
    {
     "data": {
      "text/plain": [
       "False"
      ]
     },
     "execution_count": 43,
     "metadata": {},
     "output_type": "execute_result"
    }
   ],
   "source": [
    "excelr.endswith(('best'))"
   ]
  },
  {
   "cell_type": "code",
   "execution_count": 44,
   "id": "c2651984",
   "metadata": {},
   "outputs": [
    {
     "data": {
      "text/plain": [
       "False"
      ]
     },
     "execution_count": 44,
     "metadata": {},
     "output_type": "execute_result"
    }
   ],
   "source": [
    "excelr.endswith(('science'))"
   ]
  },
  {
   "cell_type": "code",
   "execution_count": 45,
   "id": "685867df",
   "metadata": {},
   "outputs": [],
   "source": [
    "#Example-2\n",
    "learning = 'learning and practicing is the very important key for to achive'"
   ]
  },
  {
   "cell_type": "code",
   "execution_count": 46,
   "id": "997856ba",
   "metadata": {},
   "outputs": [
    {
     "data": {
      "text/plain": [
       "False"
      ]
     },
     "execution_count": 46,
     "metadata": {},
     "output_type": "execute_result"
    }
   ],
   "source": [
    "learning.endswith(('very'))"
   ]
  },
  {
   "cell_type": "code",
   "execution_count": 47,
   "id": "8c2f904a",
   "metadata": {},
   "outputs": [
    {
     "data": {
      "text/plain": [
       "False"
      ]
     },
     "execution_count": 47,
     "metadata": {},
     "output_type": "execute_result"
    }
   ],
   "source": [
    "learning.endswith(('to'))"
   ]
  },
  {
   "cell_type": "code",
   "execution_count": 48,
   "id": "911f7d9d",
   "metadata": {},
   "outputs": [
    {
     "data": {
      "text/plain": [
       "True"
      ]
     },
     "execution_count": 48,
     "metadata": {},
     "output_type": "execute_result"
    }
   ],
   "source": [
    "learning.endswith(('achive'))"
   ]
  },
  {
   "cell_type": "markdown",
   "id": "f27cd948",
   "metadata": {},
   "source": [
    "### 6. Expandtabs()\n",
    "The expandtabs() returns a string where all '\\t' characters are replaced with whitespace characters until the next multiple of tabsize parameter."
   ]
  },
  {
   "cell_type": "code",
   "execution_count": 52,
   "id": "c4db5905",
   "metadata": {},
   "outputs": [],
   "source": [
    "#Example-1\n",
    "x = 'ABC\\t567\\tbgd\\t9653'"
   ]
  },
  {
   "cell_type": "code",
   "execution_count": 53,
   "id": "0f450693",
   "metadata": {},
   "outputs": [
    {
     "data": {
      "text/plain": [
       "'ABC     567     bgd     9653'"
      ]
     },
     "execution_count": 53,
     "metadata": {},
     "output_type": "execute_result"
    }
   ],
   "source": [
    "x.expandtabs()"
   ]
  },
  {
   "cell_type": "code",
   "execution_count": 54,
   "id": "1aee4204",
   "metadata": {},
   "outputs": [],
   "source": [
    "#Example-2\n",
    "y = 'Manoj\\tAvinash\\tMeghan'"
   ]
  },
  {
   "cell_type": "code",
   "execution_count": 55,
   "id": "95ac08c6",
   "metadata": {},
   "outputs": [
    {
     "data": {
      "text/plain": [
       "'Manoj   Avinash Meghan'"
      ]
     },
     "execution_count": 55,
     "metadata": {},
     "output_type": "execute_result"
    }
   ],
   "source": [
    "y.expandtabs()"
   ]
  },
  {
   "cell_type": "markdown",
   "id": "ef335b5d",
   "metadata": {},
   "source": [
    "### 7.Python String encode()\n",
    "The encode() method returns an encoded version of the given string."
   ]
  },
  {
   "cell_type": "code",
   "execution_count": 60,
   "id": "21ecf174",
   "metadata": {},
   "outputs": [],
   "source": [
    "#Example-1\n",
    "a = 'python programming'"
   ]
  },
  {
   "cell_type": "code",
   "execution_count": 61,
   "id": "8f477fc7",
   "metadata": {},
   "outputs": [
    {
     "data": {
      "text/plain": [
       "b'python programming'"
      ]
     },
     "execution_count": 61,
     "metadata": {},
     "output_type": "execute_result"
    }
   ],
   "source": [
    "a.encode()"
   ]
  },
  {
   "cell_type": "code",
   "execution_count": 62,
   "id": "e01b72be",
   "metadata": {},
   "outputs": [],
   "source": [
    "#Example-2\n",
    "b = 'Machine Learning'"
   ]
  },
  {
   "cell_type": "code",
   "execution_count": 63,
   "id": "da983a1f",
   "metadata": {},
   "outputs": [
    {
     "data": {
      "text/plain": [
       "b'Machine Learning'"
      ]
     },
     "execution_count": 63,
     "metadata": {},
     "output_type": "execute_result"
    }
   ],
   "source": [
    "b.encode()"
   ]
  },
  {
   "cell_type": "markdown",
   "id": "ffc8071d",
   "metadata": {},
   "source": [
    "### 8. Python String find()\n",
    "The find() method returns the index of first occurrence of the substring (if found). If not found, it returns -1."
   ]
  },
  {
   "cell_type": "code",
   "execution_count": 71,
   "id": "7b0da225",
   "metadata": {},
   "outputs": [],
   "source": [
    "#Example-1\n",
    "message = 'python is one of mindblowing programming language'"
   ]
  },
  {
   "cell_type": "code",
   "execution_count": 72,
   "id": "d67a41cd",
   "metadata": {},
   "outputs": [
    {
     "data": {
      "text/plain": [
       "29"
      ]
     },
     "execution_count": 72,
     "metadata": {},
     "output_type": "execute_result"
    }
   ],
   "source": [
    "message.find(('programming'))"
   ]
  },
  {
   "cell_type": "code",
   "execution_count": 73,
   "id": "3c0f6d7a",
   "metadata": {},
   "outputs": [
    {
     "data": {
      "text/plain": [
       "7"
      ]
     },
     "execution_count": 73,
     "metadata": {},
     "output_type": "execute_result"
    }
   ],
   "source": [
    "message.find(('is'))"
   ]
  },
  {
   "cell_type": "code",
   "execution_count": 74,
   "id": "b26495de",
   "metadata": {},
   "outputs": [],
   "source": [
    "#Example-2\n",
    "mess = 'python having so many string methods'"
   ]
  },
  {
   "cell_type": "code",
   "execution_count": 75,
   "id": "e122c586",
   "metadata": {},
   "outputs": [
    {
     "data": {
      "text/plain": [
       "17"
      ]
     },
     "execution_count": 75,
     "metadata": {},
     "output_type": "execute_result"
    }
   ],
   "source": [
    "mess.find(('many'))"
   ]
  },
  {
   "cell_type": "markdown",
   "id": "288a157c",
   "metadata": {},
   "source": [
    "### 9. Python String format()\n",
    "\n",
    "***String format() Parameters :***\n",
    "\n",
    "format() method takes any number of parameters. But, is divided into two types of parameters:\n",
    "\n",
    "**Positional parameters** - list of parameters that can be accessed with index of parameter inside curly braces {index}\n",
    "\n",
    "**Keyword parameters** - list of parameters of type key=value, that can be accessed with key of parameter inside curly braces {key}"
   ]
  },
  {
   "cell_type": "code",
   "execution_count": 1,
   "id": "7de57aef",
   "metadata": {},
   "outputs": [],
   "source": [
    "#Example-1\n",
    "#Default parameter.\n",
    "data = (\"Hello {}, Your Id is {}.\".format(\"Manoj\", 1))"
   ]
  },
  {
   "cell_type": "code",
   "execution_count": 2,
   "id": "c295152d",
   "metadata": {},
   "outputs": [
    {
     "data": {
      "text/plain": [
       "'Hello Manoj, Your Id is 1.'"
      ]
     },
     "execution_count": 2,
     "metadata": {},
     "output_type": "execute_result"
    }
   ],
   "source": [
    "data"
   ]
  },
  {
   "cell_type": "code",
   "execution_count": 5,
   "id": "d678ab69",
   "metadata": {},
   "outputs": [],
   "source": [
    "#Positional parameter.\n",
    "data1 = (\"Hello {0}, Your ID is {1}.\".format(\"AVinash\",2))"
   ]
  },
  {
   "cell_type": "code",
   "execution_count": 6,
   "id": "5a3d0d62",
   "metadata": {},
   "outputs": [
    {
     "data": {
      "text/plain": [
       "'Hello AVinash, Your ID is 2.'"
      ]
     },
     "execution_count": 6,
     "metadata": {},
     "output_type": "execute_result"
    }
   ],
   "source": [
    "data1"
   ]
  },
  {
   "cell_type": "code",
   "execution_count": 8,
   "id": "18e5db7a",
   "metadata": {},
   "outputs": [],
   "source": [
    "#Keyword parameter.\n",
    "data2 = (\"Hello {name}, Your ID is {ID}.\".format(name = \"Meghan\", ID = 3))"
   ]
  },
  {
   "cell_type": "code",
   "execution_count": 9,
   "id": "46e66c60",
   "metadata": {},
   "outputs": [
    {
     "data": {
      "text/plain": [
       "'Hello Meghan, Your ID is 3.'"
      ]
     },
     "execution_count": 9,
     "metadata": {},
     "output_type": "execute_result"
    }
   ],
   "source": [
    "data2"
   ]
  },
  {
   "cell_type": "code",
   "execution_count": 10,
   "id": "ed5d57d7",
   "metadata": {},
   "outputs": [],
   "source": [
    "#Mixed parameter.\n",
    "data3 = (\"Hello {0}, Your ID is {ID}.\".format(\"Shree\", ID = 4))"
   ]
  },
  {
   "cell_type": "code",
   "execution_count": 11,
   "id": "135be5d0",
   "metadata": {},
   "outputs": [
    {
     "data": {
      "text/plain": [
       "'Hello Shree, Your ID is 4.'"
      ]
     },
     "execution_count": 11,
     "metadata": {},
     "output_type": "execute_result"
    }
   ],
   "source": [
    "data3"
   ]
  },
  {
   "cell_type": "code",
   "execution_count": 12,
   "id": "9c996ab9",
   "metadata": {},
   "outputs": [],
   "source": [
    "#Example-2\n",
    "#Default parameter.\n",
    "emp1 = (\"Hello {}, Your Company is {}.\".format(\"Manoj\", \"Microsoft\"))"
   ]
  },
  {
   "cell_type": "code",
   "execution_count": 13,
   "id": "cec6f31e",
   "metadata": {},
   "outputs": [
    {
     "data": {
      "text/plain": [
       "'Hello Manoj, Your Company is Microsoft.'"
      ]
     },
     "execution_count": 13,
     "metadata": {},
     "output_type": "execute_result"
    }
   ],
   "source": [
    "emp1"
   ]
  },
  {
   "cell_type": "code",
   "execution_count": 20,
   "id": "b041f230",
   "metadata": {},
   "outputs": [],
   "source": [
    "#Positional parameter.\n",
    "emp2 = (\"Hello {0} Your Company is {1}.\".format(\"Meghan\", \"Accenture\"))"
   ]
  },
  {
   "cell_type": "code",
   "execution_count": 21,
   "id": "93ef9725",
   "metadata": {},
   "outputs": [
    {
     "data": {
      "text/plain": [
       "'Hello Meghan Your Company is Accenture.'"
      ]
     },
     "execution_count": 21,
     "metadata": {},
     "output_type": "execute_result"
    }
   ],
   "source": [
    "emp2"
   ]
  },
  {
   "cell_type": "code",
   "execution_count": 25,
   "id": "0a793907",
   "metadata": {},
   "outputs": [],
   "source": [
    "#Keyword parameter.\n",
    "emp3 = (\"Hello {name}, your company is {Comp}.\".format(name = \"Avinash\", Comp = \"Altiq\"))"
   ]
  },
  {
   "cell_type": "code",
   "execution_count": 26,
   "id": "fa9af555",
   "metadata": {},
   "outputs": [
    {
     "data": {
      "text/plain": [
       "'Hello Avinash, your company is Altiq.'"
      ]
     },
     "execution_count": 26,
     "metadata": {},
     "output_type": "execute_result"
    }
   ],
   "source": [
    "emp3"
   ]
  },
  {
   "cell_type": "code",
   "execution_count": 31,
   "id": "c3705ad5",
   "metadata": {},
   "outputs": [],
   "source": [
    "#Mixed Parameter.\n",
    "emp4 = (\"Hello {0}, Your company is {comp}.\".format(\"shree\", comp = \"Google\"))"
   ]
  },
  {
   "cell_type": "code",
   "execution_count": 32,
   "id": "f8c8a1bb",
   "metadata": {},
   "outputs": [
    {
     "data": {
      "text/plain": [
       "'Hello shree, Your company is Google.'"
      ]
     },
     "execution_count": 32,
     "metadata": {},
     "output_type": "execute_result"
    }
   ],
   "source": [
    "emp4"
   ]
  },
  {
   "cell_type": "markdown",
   "id": "51828351",
   "metadata": {},
   "source": [
    "### 10. Python String index()\n",
    "The index() method returns the index of a substring inside the string (if found). If the substring is not found, it raises an exception."
   ]
  },
  {
   "cell_type": "code",
   "execution_count": 38,
   "id": "d67783cc",
   "metadata": {},
   "outputs": [],
   "source": [
    "#Example-1\n",
    "data = \"I know python very well than others language\""
   ]
  },
  {
   "cell_type": "code",
   "execution_count": 39,
   "id": "c0fc8239",
   "metadata": {},
   "outputs": [
    {
     "data": {
      "text/plain": [
       "19"
      ]
     },
     "execution_count": 39,
     "metadata": {},
     "output_type": "execute_result"
    }
   ],
   "source": [
    "data.index(('well'))"
   ]
  },
  {
   "cell_type": "code",
   "execution_count": 40,
   "id": "66f284ec",
   "metadata": {},
   "outputs": [
    {
     "data": {
      "text/plain": [
       "0"
      ]
     },
     "execution_count": 40,
     "metadata": {},
     "output_type": "execute_result"
    }
   ],
   "source": [
    "data.index(('I'))"
   ]
  },
  {
   "cell_type": "code",
   "execution_count": 41,
   "id": "09377798",
   "metadata": {},
   "outputs": [
    {
     "data": {
      "text/plain": [
       "2"
      ]
     },
     "execution_count": 41,
     "metadata": {},
     "output_type": "execute_result"
    }
   ],
   "source": [
    "data.index(('know'))"
   ]
  },
  {
   "cell_type": "code",
   "execution_count": 42,
   "id": "b16cffa0",
   "metadata": {},
   "outputs": [],
   "source": [
    "#Example-2\n",
    "data = \"I'm learning the data science very well\""
   ]
  },
  {
   "cell_type": "code",
   "execution_count": 43,
   "id": "24741342",
   "metadata": {},
   "outputs": [
    {
     "data": {
      "text/plain": [
       "17"
      ]
     },
     "execution_count": 43,
     "metadata": {},
     "output_type": "execute_result"
    }
   ],
   "source": [
    "data.index(('data'))"
   ]
  },
  {
   "cell_type": "code",
   "execution_count": 44,
   "id": "49ff856f",
   "metadata": {},
   "outputs": [
    {
     "data": {
      "text/plain": [
       "4"
      ]
     },
     "execution_count": 44,
     "metadata": {},
     "output_type": "execute_result"
    }
   ],
   "source": [
    "data.index(('learning'))"
   ]
  },
  {
   "cell_type": "code",
   "execution_count": 47,
   "id": "ae26c15a",
   "metadata": {},
   "outputs": [
    {
     "data": {
      "text/plain": [
       "30"
      ]
     },
     "execution_count": 47,
     "metadata": {},
     "output_type": "execute_result"
    }
   ],
   "source": [
    "data.index(('very'))"
   ]
  }
 ],
 "metadata": {
  "kernelspec": {
   "display_name": "Python 3 (ipykernel)",
   "language": "python",
   "name": "python3"
  },
  "language_info": {
   "codemirror_mode": {
    "name": "ipython",
    "version": 3
   },
   "file_extension": ".py",
   "mimetype": "text/x-python",
   "name": "python",
   "nbconvert_exporter": "python",
   "pygments_lexer": "ipython3",
   "version": "3.11.3"
  }
 },
 "nbformat": 4,
 "nbformat_minor": 5
}
